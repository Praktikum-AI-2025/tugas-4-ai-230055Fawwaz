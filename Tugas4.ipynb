{
 "cells": [
  {
   "cell_type": "code",
   "execution_count": null,
   "id": "88e34067",
   "metadata": {
    "vscode": {
     "languageId": "plaintext"
    }
   },
   "outputs": [],
   "source": [
    "# =====================================================================================================\n",
    "# Membangun sebuah model Neural Network untuk klasifikasi dataset Horse or Human dalam binary classes.\n",
    "#\n",
    "# Input layer harus menerima 150x150 dengan 3 bytes warna sebagai input shapenya.\n",
    "# Jangan menggunakan lambda layers dalam model.\n",
    "#\n",
    "# Dataset yang digunakan dibuat oleh Laurence Moroney (laurencemoroney.com).\n",
    "#\n",
    "# Standar yang harus dicapai untuk accuracy dan validation_accuracy > 83%\n",
    "# =====================================================================================================\n",
    "\n",
    "import urllib.request\n",
    "import zipfile\n",
    "import tensorflow as tf\n",
    "import os\n",
    "import shutil\n",
    "from tensorflow.keras.preprocessing.image import ImageDataGenerator\n",
    "from tensorflow.keras.optimizers import RMSprop\n",
    "\n",
    "# ⏬ Download dan ekstrak data\n",
    "def download_and_extract():\n",
    "    print(\"⏬ Downloading training dataset...\")\n",
    "    url1 = 'https://github.com/dicodingacademy/assets/releases/download/release-horse-or-human/horse-or-human.zip'\n",
    "    urllib.request.urlretrieve(url1, 'horse-or-human.zip')\n",
    "    with zipfile.ZipFile('horse-or-human.zip', 'r') as zip_ref:\n",
    "        zip_ref.extractall('data/horse-or-human')\n",
    "    print(\"✅ Training data extracted.\")\n",
    "\n",
    "    print(\"⏬ Downloading validation dataset...\")\n",
    "    url2 = 'https://github.com/dicodingacademy/assets/raw/main/Simulation/machine_learning/validation-horse-or-human.zip'\n",
    "    urllib.request.urlretrieve(url2, 'validation-horse-or-human.zip')\n",
    "    with zipfile.ZipFile('validation-horse-or-human.zip', 'r') as zip_ref:\n",
    "        zip_ref.extractall('data/validation-horse-or-human')\n",
    "    print(\"✅ Validation data extracted.\")\n",
    "\n",
    "download_and_extract()"
   ]
  },
  {
   "cell_type": "code",
   "execution_count": null,
   "id": "5b8e5ae7",
   "metadata": {
    "vscode": {
     "languageId": "plaintext"
    }
   },
   "outputs": [],
   "source": [
    "# 📁 Path data\n",
    "TRAINING_DIR = 'data/horse-or-human'\n",
    "VALIDATION_DIR = 'data/validation-horse-or-human'\n",
    "\n",
    "# 🔄 Preprocessing\n",
    "train_datagen = ImageDataGenerator(\n",
    "    rescale=1/255,\n",
    "    rotation_range=40,\n",
    "    horizontal_flip=True,\n",
    "    shear_range=0.2,\n",
    "    zoom_range=0.2,\n",
    "    fill_mode='nearest'\n",
    ")\n",
    "\n",
    "validation_datagen = ImageDataGenerator(rescale=1./255)\n",
    "\n",
    "train_generator = train_datagen.flow_from_directory(\n",
    "    TRAINING_DIR,\n",
    "    target_size=(150, 150),\n",
    "    class_mode='binary',\n",
    "    batch_size=32\n",
    ")\n",
    "\n",
    "validation_generator = validation_datagen.flow_from_directory(\n",
    "    VALIDATION_DIR,\n",
    "    target_size=(150, 150),\n",
    "    class_mode='binary',\n",
    "    batch_size=32\n",
    ")"
   ]
  },
  {
   "cell_type": "code",
   "execution_count": null,
   "id": "66cd3c4d",
   "metadata": {
    "vscode": {
     "languageId": "plaintext"
    }
   },
   "outputs": [],
   "source": [
    "# 🧠 Membangun model\n",
    "model = tf.keras.models.Sequential([\n",
    "    tf.keras.layers.Conv2D(16, (3, 3), activation='relu', input_shape=(150, 150, 3)),\n",
    "    tf.keras.layers.MaxPooling2D(2, 2),\n",
    "\n",
    "    tf.keras.layers.Conv2D(32, (3, 3), activation='relu'),\n",
    "    tf.keras.layers.MaxPooling2D(2, 2),\n",
    "\n",
    "    tf.keras.layers.Conv2D(64, (3, 3), activation='relu'),\n",
    "    tf.keras.layers.MaxPooling2D(2, 2),\n",
    "\n",
    "    tf.keras.layers.Flatten(),\n",
    "    tf.keras.layers.Dense(512, activation='relu'),\n",
    "    tf.keras.layers.Dense(1, activation='sigmoid')  # DO NOT CHANGE THIS LINE!\n",
    "])\n",
    "\n",
    "# ⚙️ Compile model\n",
    "model.compile(\n",
    "    loss='binary_crossentropy',\n",
    "    optimizer=RMSprop(learning_rate=0.001),\n",
    "    metrics=['accuracy']\n",
    ")\n",
    "\n",
    "# 🚀 Training\n",
    "history = model.fit(\n",
    "    train_generator,\n",
    "    epochs=10,\n",
    "    validation_data=validation_generator\n",
    ")"
   ]
  },
  {
   "cell_type": "code",
   "execution_count": null,
   "id": "139aabfd",
   "metadata": {
    "vscode": {
     "languageId": "plaintext"
    }
   },
   "outputs": [],
   "source": [
    "# 💾 Simpan model\n",
    "model.save(\"model_05.h5\")\n",
    "print(\"✅ Model berhasil disimpan sebagai model_05.h5\")"
   ]
  }
 ],
 "metadata": {
  "language_info": {
   "name": "python"
  }
 },
 "nbformat": 4,
 "nbformat_minor": 5
}
